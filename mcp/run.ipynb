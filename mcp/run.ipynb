{
 "cells": [
  {
   "cell_type": "code",
   "execution_count": null,
   "id": "fe042707",
   "metadata": {},
   "outputs": [],
   "source": [
    "from src.tools.file_system import GrepTool, GlobTool, LSTool, FileEditTool, FileWriteTool, FileReadTool\n",
    "from src.core.workspace import WorkspaceManager\n",
    "from src.legacy.str_replace_tool import StrReplaceEditorTool\n",
    "from src.legacy.workspace_manager import WorkspaceManager as LegacyWorkspaceManager\n",
    "from pathlib import Path\n",
    "\n",
    "workspace_manager = WorkspaceManager(\".\")\n",
    "\n",
    "legacy_workspace_manager = LegacyWorkspaceManager(root=Path(\"/home/pvduy/phu/ii-agent/mcp\")) \n",
    "\n",
    "str_replace_tool = StrReplaceEditorTool(legacy_workspace_manager)"
   ]
  },
  {
   "cell_type": "code",
   "execution_count": null,
   "id": "32af97bb",
   "metadata": {},
   "outputs": [],
   "source": [
    "workspace_manager.get_workspace_path()"
   ]
  },
  {
   "cell_type": "code",
   "execution_count": null,
   "id": "2d7402ed",
   "metadata": {},
   "outputs": [],
   "source": [
    "ls_tool = LSTool(workspace_manager)\n",
    "\n",
    "result = ls_tool.run_impl(\n",
    "    path=\"/home/pvduy/phu/ii-agent/mcp/src\",\n",
    "    # ignore=[\"**tmp**\"]\n",
    ")\n",
    "print(result)\n",
    "\n",
    "print(\"\\n================================================\\n\")\n",
    "\n",
    "result = ls_tool.run_impl(\n",
    "    path=\"/home/pvduy/phu/ii-agent/mcp/src\",\n",
    "    ignore=[\"**i**\", \"tmp_legacy.py\"]\n",
    ")\n",
    "print(result)"
   ]
  },
  {
   "cell_type": "code",
   "execution_count": null,
   "id": "1bb8f8d4",
   "metadata": {},
   "outputs": [],
   "source": [
    "grep_tool = GrepTool(\n",
    "    workspace_manager=workspace_manager\n",
    ")\n",
    "\n",
    "result = grep_tool.run_impl(\n",
    "    pattern=\"pattern: Annotated\",\n",
    "    path=\"/home/pvduy/phu/ii-agent/mcp/src/tools\"\n",
    ")\n",
    "\n",
    "print(result)"
   ]
  },
  {
   "cell_type": "code",
   "execution_count": null,
   "id": "75a7e1a6",
   "metadata": {},
   "outputs": [],
   "source": [
    "glob_tool = GlobTool(workspace_manager)\n",
    "\n",
    "result = glob_tool.run_impl(\n",
    "    pattern=\"**/__init__.py\",\n",
    "    path=\"/home/pvduy/phu/ii-agent/mcp\"\n",
    ")\n",
    "\n",
    "print(result)"
   ]
  },
  {
   "cell_type": "code",
   "execution_count": null,
   "id": "86da6d50",
   "metadata": {},
   "outputs": [],
   "source": []
  },
  {
   "cell_type": "code",
   "execution_count": null,
   "id": "345bd883",
   "metadata": {},
   "outputs": [],
   "source": [
    "ls_tool = LSTool(workspace_manager)\n",
    "\n",
    "result = ls_tool.run_impl(\n",
    "    path=\"./src/core\",\n",
    "    ignore=[\"**/__pycache__/**\"]\n",
    ")\n",
    "\n",
    "print(result)"
   ]
  },
  {
   "cell_type": "code",
   "execution_count": null,
   "id": "2a8680ce",
   "metadata": {},
   "outputs": [],
   "source": [
    "file_read_tool = FileReadTool(workspace_manager)\n",
    "\n",
    "path = \"/home/pvduy/phu/ii-agent/mcp/src/main.py\"\n",
    "\n",
    "result = file_read_tool.run_impl(\n",
    "    file_path=path,\n",
    "    # offset=5,\n",
    "    # limit=7\n",
    ")\n",
    "\n",
    "result_legacy = str_replace_tool.run_impl(\n",
    "    command=\"view\",\n",
    "    path=path,\n",
    "    # view_range=[5, 11]\n",
    ")\n",
    "\n",
    "print(result)\n",
    "print(\"\\n================================================\\n\")\n",
    "print(result_legacy)"
   ]
  },
  {
   "cell_type": "code",
   "execution_count": null,
   "id": "f49dbf6e",
   "metadata": {},
   "outputs": [],
   "source": [
    "file_read_tool.run_impl(\n",
    "    file_path=\"/home/pvduy/phu/ii-agent/mcp/tmp/hao-quang-ruc-ro.png\"\n",
    ")"
   ]
  },
  {
   "cell_type": "code",
   "execution_count": null,
   "id": "edb84e46",
   "metadata": {},
   "outputs": [],
   "source": [
    "result = file_read_tool.run_impl(\n",
    "    file_path=\"/home/pvduy/phu/ii-agent/mcp/tmp/II_Coin_Whitepaper.pdf\"\n",
    ")\n",
    "\n",
    "print(result)"
   ]
  },
  {
   "cell_type": "code",
   "execution_count": null,
   "id": "64057519",
   "metadata": {},
   "outputs": [],
   "source": [
    "import subprocess\n",
    "\n",
    "# subprocess.run([\"rm\", \"-rf\", \"/home/pvduy/phu/ii-agent/mcp/src/tmp.py\"])\n",
    "# subprocess.run([\"rm\", \"-rf\", \"/home/pvduy/phu/ii-agent/mcp/src/tmp_legacy.py\"])\n",
    "\n",
    "file_path = \"/home/pvduy/phu/ii-agent/mcp/tmp/tmp.py\"\n",
    "\n",
    "content = \"def hello_world():\\n\\tprint('Hello, world!')\"\n",
    "content = \"\"\"\\\n",
    "def hello_world():\n",
    "    print('Hello, world!')\n",
    "\"\"\"\n",
    "\n",
    "file_write_tool = FileWriteTool(workspace_manager)\n",
    "\n",
    "result = file_write_tool.run_impl(\n",
    "    file_path=file_path,\n",
    "    content=content\n",
    ")\n",
    "print(result)\n",
    "\n",
    "print(\"\\n================================================\\n\")\n",
    "\n",
    "file_path = \"/home/pvduy/phu/ii-agent/mcp/src/tmp/tmp_legacy.py\"\n",
    "\n",
    "result_legacy = str_replace_tool.run_impl(\n",
    "    command=\"create\",\n",
    "    path=file_path,\n",
    "    file_text=content\n",
    ")\n",
    "print(result_legacy)"
   ]
  },
  {
   "cell_type": "code",
   "execution_count": null,
   "id": "1998cf81",
   "metadata": {},
   "outputs": [],
   "source": [
    "path = \"/home/pvduy/phu/ii-agent/mcp/tmp/tmp.py\"\n",
    "\n",
    "def setup_tmp_file(path):\n",
    "    file_write_tool = FileWriteTool(workspace_manager)\n",
    "    file_write_tool.run_impl(\n",
    "        file_path=path,\n",
    "        content=\"def hello_world():\\n\\tprint('Hello, world!')\\n\\tprint('Hello, world!')\\n\\tprint('Hello, world!')\\n\\tprint('Hello, world!')\\n\\tprint('Hello, world!')\"\n",
    "    )\n",
    "\n",
    "setup_tmp_file(path)\n",
    "\n",
    "# --------------------------------------------------------------------------------\n",
    "\n",
    "file_edit_tool = FileEditTool(workspace_manager)\n",
    "\n",
    "result = file_edit_tool.run_impl(\n",
    "    file_path=path,\n",
    "    old_string=\"print('Hello, world!')\",\n",
    "    new_string=\"print('Hello, and goodbye!')\",\n",
    "    replace_all=False\n",
    ")\n",
    "\n",
    "print(result)\n",
    "\n",
    "# --------------------------------------------------------------------------------\n",
    "\n",
    "setup_tmp_file(path)\n",
    "\n",
    "# --------------------------------------------------------------------------------\n",
    "\n",
    "print(\"\\n================================================\\n\")\n",
    "\n",
    "result_legacy = str_replace_tool.run_impl(\n",
    "    command=\"str_replace\",\n",
    "    path=path,\n",
    "    old_str=\"print('Hello, world!')\",\n",
    "    new_str=\"print('Hello, and goodbye!')\"\n",
    ")\n",
    "\n",
    "print(result_legacy)"
   ]
  },
  {
   "cell_type": "code",
   "execution_count": null,
   "id": "e7df723c",
   "metadata": {},
   "outputs": [],
   "source": [
    "file_write_tool = FileWriteTool(workspace_manager)\n",
    "\n",
    "file_write_tool.run_impl(\n",
    "    file_path=\"/home/pvduy/phu/ii-agent/mcp/tmp/tmp.py\",\n",
    "    content=\"def hello_world():\\n\\tprint('Hello, world!')\"\n",
    ")\n",
    "\n",
    "# --------------------------------------------------------------------------------\n",
    "\n",
    "file_edit_tool = FileEditTool(workspace_manager)\n",
    "\n",
    "result = file_edit_tool.run_impl(\n",
    "    file_path=\"/home/pvduy/phu/ii-agent/mcp/tmp/tmp.py\",\n",
    "    old_string=\"\\tprint('Hello, world!')\",\n",
    "    new_string=\"\\treturn 'Hello, and goodbye!'\",\n",
    "    replace_all=False\n",
    ")\n",
    "\n",
    "print(result)"
   ]
  },
  {
   "cell_type": "code",
   "execution_count": null,
   "id": "65101849",
   "metadata": {},
   "outputs": [],
   "source": [
    "file_write_tool = FileWriteTool(workspace_manager)\n",
    "\n",
    "file_write_tool.run_impl(\n",
    "    file_path=\"/home/pvduy/phu/ii-agent/mcp/src/tmp.py\",\n",
    "    content=\"def hello_world():\\n\\tprint('Hello, world!')\"\n",
    ")\n",
    "\n",
    "# --------------------------------------------------------------------------------\n",
    "\n",
    "from src.legacy.str_replace_tool import StrReplaceEditorTool\n",
    "from src.legacy.workspace_manager import WorkspaceManager as LegacyWorkspaceManager\n",
    "from pathlib import Path\n",
    "\n",
    "legacy_workspace_manager = LegacyWorkspaceManager(root=Path(\"/home/pvduy/phu/ii-agent/mcp\")) \n",
    "\n",
    "str_replace_tool = StrReplaceEditorTool(legacy_workspace_manager)\n",
    "\n",
    "result = str_replace_tool.run_impl(\n",
    "    command=\"str_replace\",\n",
    "    path=\"/home/pvduy/phu/ii-agent/mcp/src/tmp.py\",\n",
    "    old_str=\"print('Hello, world!')\",\n",
    "    # old_str=\"hgjdsgjkds\",\n",
    "    new_str=\"return 'Hello, and goodbye!'\"\n",
    ")\n",
    "\n",
    "print(result)"
   ]
  },
  {
   "cell_type": "markdown",
   "id": "bbff84fd",
   "metadata": {},
   "source": [
    "# TODO"
   ]
  },
  {
   "cell_type": "code",
   "execution_count": null,
   "id": "6e5e9ddd",
   "metadata": {},
   "outputs": [],
   "source": [
    "from src.tools.productivity.todo_write_tool import TodoWriteTool\n",
    "from src.tools.productivity.todo_read_tool import TodoReadTool\n",
    "\n",
    "todo_write_tool = TodoWriteTool()\n",
    "todo_read_tool = TodoReadTool()"
   ]
  },
  {
   "cell_type": "code",
   "execution_count": null,
   "id": "21137709",
   "metadata": {},
   "outputs": [],
   "source": [
    "todo_read_tool.run_impl()"
   ]
  },
  {
   "cell_type": "code",
   "execution_count": null,
   "id": "ef1cc098",
   "metadata": {},
   "outputs": [],
   "source": [
    "result = todo_write_tool.run_impl(\n",
    "    [\n",
    "        {\n",
    "            \"id\": \"1\",\n",
    "            \"content\": \"Write a blog post about the benefits of using AI\",\n",
    "            \"status\": \"pending\",\n",
    "            \"priority\": \"high\"\n",
    "        },\n",
    "        {\n",
    "            \"id\": \"2\",\n",
    "            \"content\": \"Implement a new feature in the project\",\n",
    "            \"status\": \"pending\",\n",
    "            \"priority\": \"medium\"\n",
    "        },\n",
    "        {\n",
    "            \"id\": \"3\",\n",
    "            \"content\": \"Write tests for the new feature\",\n",
    "            \"status\": \"pending\",\n",
    "            \"priority\": \"low\"\n",
    "        }\n",
    "    ]\n",
    ")"
   ]
  },
  {
   "cell_type": "code",
   "execution_count": null,
   "id": "e80dbd99",
   "metadata": {},
   "outputs": [],
   "source": [
    "result"
   ]
  },
  {
   "cell_type": "code",
   "execution_count": null,
   "id": "32f238f8",
   "metadata": {},
   "outputs": [],
   "source": [
    "todo_read_tool.run_impl()"
   ]
  },
  {
   "cell_type": "code",
   "execution_count": null,
   "id": "43125409",
   "metadata": {},
   "outputs": [],
   "source": [
    "result = todo_write_tool.run_impl(\n",
    "    [\n",
    "        {\n",
    "            \"id\": \"1\",\n",
    "            \"content\": \"Write a blog post about the benefits of using AI\",\n",
    "            \"status\": \"completed\",\n",
    "            \"priority\": \"high\"\n",
    "        },\n",
    "        {\n",
    "            \"id\": \"2\",\n",
    "            \"content\": \"Implement a new feature in the project\",\n",
    "            \"status\": \"completed\",\n",
    "            \"priority\": \"medium\"\n",
    "        },\n",
    "        {\n",
    "            \"id\": \"3\",\n",
    "            \"content\": \"Write tests for the new feature\",\n",
    "            \"status\": \"completed\",\n",
    "            \"priority\": \"low\"\n",
    "        }\n",
    "    ]\n",
    ")"
   ]
  },
  {
   "cell_type": "code",
   "execution_count": null,
   "id": "41801612",
   "metadata": {},
   "outputs": [],
   "source": [
    "todo_read_tool.run_impl()"
   ]
  },
  {
   "cell_type": "code",
   "execution_count": null,
   "id": "feea5618",
   "metadata": {},
   "outputs": [],
   "source": [
    "output = \"\"\"tests/test_file_edit_tool.py:429:    def test_create_file_then_edit(self, file_edit_tool, temp_workspace):\"\"\"\n",
    "\n",
    "print(output.split(\":\", 2))"
   ]
  },
  {
   "cell_type": "code",
   "execution_count": null,
   "id": "57435b4f",
   "metadata": {},
   "outputs": [],
   "source": []
  },
  {
   "cell_type": "code",
   "execution_count": 15,
   "id": "b8c9e916",
   "metadata": {},
   "outputs": [],
   "source": [
    "import libtmux\n",
    "\n",
    "server = libtmux.Server()"
   ]
  },
  {
   "cell_type": "code",
   "execution_count": 16,
   "id": "792f9a30",
   "metadata": {},
   "outputs": [
    {
     "data": {
      "text/plain": [
       "['onlook', 'phu', 'test', 'test_mcp', 'thinh', 'tuan']"
      ]
     },
     "execution_count": 16,
     "metadata": {},
     "output_type": "execute_result"
    }
   ],
   "source": [
    "[i.name for i in server.sessions]"
   ]
  },
  {
   "cell_type": "code",
   "execution_count": 11,
   "id": "ead1a272",
   "metadata": {},
   "outputs": [
    {
     "ename": "TmuxSessionExists",
     "evalue": "Session named test exists",
     "output_type": "error",
     "traceback": [
      "\u001b[0;31m---------------------------------------------------------------------------\u001b[0m",
      "\u001b[0;31mTmuxSessionExists\u001b[0m                         Traceback (most recent call last)",
      "Cell \u001b[0;32mIn[11], line 4\u001b[0m\n\u001b[1;32m      1\u001b[0m session_name \u001b[38;5;241m=\u001b[39m \u001b[38;5;124m\"\u001b[39m\u001b[38;5;124mtest\u001b[39m\u001b[38;5;124m\"\u001b[39m\n\u001b[1;32m      2\u001b[0m base_dir \u001b[38;5;241m=\u001b[39m \u001b[38;5;124m\"\u001b[39m\u001b[38;5;124m/home/pvduy/phu/ii-agent/mcp/src/core\u001b[39m\u001b[38;5;124m\"\u001b[39m\n\u001b[0;32m----> 4\u001b[0m session \u001b[38;5;241m=\u001b[39m \u001b[43mserver\u001b[49m\u001b[38;5;241;43m.\u001b[39;49m\u001b[43mnew_session\u001b[49m\u001b[43m(\u001b[49m\n\u001b[1;32m      5\u001b[0m \u001b[43m    \u001b[49m\u001b[43msession_name\u001b[49m\u001b[38;5;241;43m=\u001b[39;49m\u001b[43msession_name\u001b[49m\u001b[43m,\u001b[49m\u001b[43m \u001b[49m\n\u001b[1;32m      6\u001b[0m \u001b[43m    \u001b[49m\u001b[43mstart_directory\u001b[49m\u001b[38;5;241;43m=\u001b[39;49m\u001b[43mbase_dir\u001b[49m\u001b[43m,\u001b[49m\u001b[43m \u001b[49m\n\u001b[1;32m      7\u001b[0m \u001b[43m    \u001b[49m\u001b[38;5;66;43;03m# kill_session=True\u001b[39;49;00m\n\u001b[1;32m      8\u001b[0m \u001b[43m    \u001b[49m\u001b[43m)\u001b[49m\n",
      "File \u001b[0;32m~/anaconda3/envs/phu/lib/python3.10/site-packages/libtmux/server.py:523\u001b[0m, in \u001b[0;36mServer.new_session\u001b[0;34m(self, session_name, kill_session, attach, start_directory, window_name, window_command, x, y, environment, *args, **kwargs)\u001b[0m\n\u001b[1;32m    521\u001b[0m         \u001b[38;5;28;01melse\u001b[39;00m:\n\u001b[1;32m    522\u001b[0m             msg \u001b[38;5;241m=\u001b[39m \u001b[38;5;124mf\u001b[39m\u001b[38;5;124m\"\u001b[39m\u001b[38;5;124mSession named \u001b[39m\u001b[38;5;132;01m{\u001b[39;00msession_name\u001b[38;5;132;01m}\u001b[39;00m\u001b[38;5;124m exists\u001b[39m\u001b[38;5;124m\"\u001b[39m\n\u001b[0;32m--> 523\u001b[0m             \u001b[38;5;28;01mraise\u001b[39;00m exc\u001b[38;5;241m.\u001b[39mTmuxSessionExists(\n\u001b[1;32m    524\u001b[0m                 msg,\n\u001b[1;32m    525\u001b[0m             )\n\u001b[1;32m    527\u001b[0m logger\u001b[38;5;241m.\u001b[39mdebug(\u001b[38;5;124mf\u001b[39m\u001b[38;5;124m\"\u001b[39m\u001b[38;5;124mcreating session \u001b[39m\u001b[38;5;132;01m{\u001b[39;00msession_name\u001b[38;5;132;01m}\u001b[39;00m\u001b[38;5;124m\"\u001b[39m)\n\u001b[1;32m    529\u001b[0m env \u001b[38;5;241m=\u001b[39m os\u001b[38;5;241m.\u001b[39menviron\u001b[38;5;241m.\u001b[39mget(\u001b[38;5;124m\"\u001b[39m\u001b[38;5;124mTMUX\u001b[39m\u001b[38;5;124m\"\u001b[39m)\n",
      "\u001b[0;31mTmuxSessionExists\u001b[0m: Session named test exists"
     ]
    }
   ],
   "source": [
    "session_name = \"test\"\n",
    "base_dir = \"/home/pvduy/phu/ii-agent/mcp/src/core\"\n",
    "\n",
    "session = server.new_session(\n",
    "    session_name=session_name, \n",
    "    start_directory=base_dir, \n",
    "    # kill_session=True\n",
    "    )"
   ]
  },
  {
   "cell_type": "code",
   "execution_count": null,
   "id": "0112df54",
   "metadata": {},
   "outputs": [],
   "source": []
  }
 ],
 "metadata": {
  "kernelspec": {
   "display_name": "phu",
   "language": "python",
   "name": "python3"
  },
  "language_info": {
   "codemirror_mode": {
    "name": "ipython",
    "version": 3
   },
   "file_extension": ".py",
   "mimetype": "text/x-python",
   "name": "python",
   "nbconvert_exporter": "python",
   "pygments_lexer": "ipython3",
   "version": "3.10.18"
  }
 },
 "nbformat": 4,
 "nbformat_minor": 5
}
